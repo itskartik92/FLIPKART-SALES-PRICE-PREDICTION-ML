{
 "cells": [
  {
   "cell_type": "code",
   "execution_count": 1,
   "id": "65d6fb83",
   "metadata": {},
   "outputs": [],
   "source": [
    "import numpy as np\n",
    "import pandas as pd\n",
    "import matplotlib.pyplot as plt\n",
    "import seaborn as sns\n",
    "%matplotlib inline\n",
    "import warnings\n",
    "warnings.filterwarnings('ignore')\n",
    "from sklearn.model_selection import train_test_split\n",
    "from sklearn.preprocessing import LabelEncoder\n",
    "from sklearn.feature_selection import mutual_info_classif\n",
    "from sklearn.linear_model import LogisticRegression\n",
    "from sklearn.metrics import accuracy_score\n",
    "from sklearn.tree import DecisionTreeClassifier\n",
    "from sklearn.neighbors import KNeighborsClassifier\n",
    "from sklearn.ensemble import RandomForestClassifier\n",
    "from sklearn.model_selection import cross_val_score\n",
    "from sklearn.model_selection import GridSearchCV"
   ]
  },
  {
   "cell_type": "code",
   "execution_count": 2,
   "id": "b39e1618",
   "metadata": {},
   "outputs": [],
   "source": [
    "df=pd.read_csv(\"Flipkart Mobile.csv\")"
   ]
  },
  {
   "cell_type": "code",
   "execution_count": 3,
   "id": "f9235202",
   "metadata": {},
   "outputs": [
    {
     "data": {
      "text/html": [
       "<div>\n",
       "<style scoped>\n",
       "    .dataframe tbody tr th:only-of-type {\n",
       "        vertical-align: middle;\n",
       "    }\n",
       "\n",
       "    .dataframe tbody tr th {\n",
       "        vertical-align: top;\n",
       "    }\n",
       "\n",
       "    .dataframe thead th {\n",
       "        text-align: right;\n",
       "    }\n",
       "</style>\n",
       "<table border=\"1\" class=\"dataframe\">\n",
       "  <thead>\n",
       "    <tr style=\"text-align: right;\">\n",
       "      <th></th>\n",
       "      <th>brand</th>\n",
       "      <th>model</th>\n",
       "      <th>base_color</th>\n",
       "      <th>ROM</th>\n",
       "      <th>RAM</th>\n",
       "      <th>processor</th>\n",
       "      <th>display_size</th>\n",
       "      <th>screen_size</th>\n",
       "      <th>num_rear_camera</th>\n",
       "      <th>num_front_camera</th>\n",
       "      <th>battery_capacity</th>\n",
       "      <th>ratings</th>\n",
       "      <th>num_of_ratings</th>\n",
       "      <th>sales_price</th>\n",
       "      <th>discount_percent</th>\n",
       "    </tr>\n",
       "  </thead>\n",
       "  <tbody>\n",
       "    <tr>\n",
       "      <th>0</th>\n",
       "      <td>Apple</td>\n",
       "      <td>iPhone SE</td>\n",
       "      <td>Black</td>\n",
       "      <td>64</td>\n",
       "      <td>2</td>\n",
       "      <td>Water</td>\n",
       "      <td>4.7</td>\n",
       "      <td>Very Small</td>\n",
       "      <td>1</td>\n",
       "      <td>1</td>\n",
       "      <td>1800</td>\n",
       "      <td>4.5</td>\n",
       "      <td>115935</td>\n",
       "      <td>32999</td>\n",
       "      <td>0.17</td>\n",
       "    </tr>\n",
       "    <tr>\n",
       "      <th>1</th>\n",
       "      <td>Apple</td>\n",
       "      <td>iPhone 12 Mini</td>\n",
       "      <td>Red</td>\n",
       "      <td>64</td>\n",
       "      <td>4</td>\n",
       "      <td>Ceramic</td>\n",
       "      <td>5.4</td>\n",
       "      <td>Small</td>\n",
       "      <td>2</td>\n",
       "      <td>1</td>\n",
       "      <td>2815</td>\n",
       "      <td>4.5</td>\n",
       "      <td>3898</td>\n",
       "      <td>57149</td>\n",
       "      <td>0.04</td>\n",
       "    </tr>\n",
       "    <tr>\n",
       "      <th>2</th>\n",
       "      <td>Apple</td>\n",
       "      <td>iPhone SE</td>\n",
       "      <td>Red</td>\n",
       "      <td>64</td>\n",
       "      <td>2</td>\n",
       "      <td>Water</td>\n",
       "      <td>4.7</td>\n",
       "      <td>Very Small</td>\n",
       "      <td>1</td>\n",
       "      <td>1</td>\n",
       "      <td>1800</td>\n",
       "      <td>4.5</td>\n",
       "      <td>115935</td>\n",
       "      <td>32999</td>\n",
       "      <td>0.17</td>\n",
       "    </tr>\n",
       "    <tr>\n",
       "      <th>3</th>\n",
       "      <td>Apple</td>\n",
       "      <td>iPhone XR</td>\n",
       "      <td>Others</td>\n",
       "      <td>64</td>\n",
       "      <td>3</td>\n",
       "      <td>iOS</td>\n",
       "      <td>6.1</td>\n",
       "      <td>Medium</td>\n",
       "      <td>1</td>\n",
       "      <td>1</td>\n",
       "      <td>2942</td>\n",
       "      <td>4.6</td>\n",
       "      <td>96594</td>\n",
       "      <td>42999</td>\n",
       "      <td>0.10</td>\n",
       "    </tr>\n",
       "    <tr>\n",
       "      <th>4</th>\n",
       "      <td>Apple</td>\n",
       "      <td>iPhone 12</td>\n",
       "      <td>Red</td>\n",
       "      <td>128</td>\n",
       "      <td>4</td>\n",
       "      <td>Ceramic</td>\n",
       "      <td>6.1</td>\n",
       "      <td>Medium</td>\n",
       "      <td>2</td>\n",
       "      <td>1</td>\n",
       "      <td>2815</td>\n",
       "      <td>4.6</td>\n",
       "      <td>12669</td>\n",
       "      <td>69149</td>\n",
       "      <td>0.02</td>\n",
       "    </tr>\n",
       "    <tr>\n",
       "      <th>...</th>\n",
       "      <td>...</td>\n",
       "      <td>...</td>\n",
       "      <td>...</td>\n",
       "      <td>...</td>\n",
       "      <td>...</td>\n",
       "      <td>...</td>\n",
       "      <td>...</td>\n",
       "      <td>...</td>\n",
       "      <td>...</td>\n",
       "      <td>...</td>\n",
       "      <td>...</td>\n",
       "      <td>...</td>\n",
       "      <td>...</td>\n",
       "      <td>...</td>\n",
       "      <td>...</td>\n",
       "    </tr>\n",
       "    <tr>\n",
       "      <th>425</th>\n",
       "      <td>Xiaomi</td>\n",
       "      <td>Redmi 6 Pro</td>\n",
       "      <td>Black</td>\n",
       "      <td>32</td>\n",
       "      <td>3</td>\n",
       "      <td>Qualcomm</td>\n",
       "      <td>5.8</td>\n",
       "      <td>Small</td>\n",
       "      <td>2</td>\n",
       "      <td>1</td>\n",
       "      <td>4000</td>\n",
       "      <td>4.3</td>\n",
       "      <td>11220</td>\n",
       "      <td>7999</td>\n",
       "      <td>0.30</td>\n",
       "    </tr>\n",
       "    <tr>\n",
       "      <th>426</th>\n",
       "      <td>Xiaomi</td>\n",
       "      <td>Redmi 6 Pro</td>\n",
       "      <td>Red</td>\n",
       "      <td>64</td>\n",
       "      <td>4</td>\n",
       "      <td>Qualcomm</td>\n",
       "      <td>5.8</td>\n",
       "      <td>Small</td>\n",
       "      <td>2</td>\n",
       "      <td>1</td>\n",
       "      <td>4000</td>\n",
       "      <td>4.3</td>\n",
       "      <td>10696</td>\n",
       "      <td>9699</td>\n",
       "      <td>0.28</td>\n",
       "    </tr>\n",
       "    <tr>\n",
       "      <th>427</th>\n",
       "      <td>Xiaomi</td>\n",
       "      <td>Mi 11 Lite</td>\n",
       "      <td>Others</td>\n",
       "      <td>128</td>\n",
       "      <td>6</td>\n",
       "      <td>Qualcomm</td>\n",
       "      <td>6.5</td>\n",
       "      <td>Large</td>\n",
       "      <td>3</td>\n",
       "      <td>1</td>\n",
       "      <td>4250</td>\n",
       "      <td>4.2</td>\n",
       "      <td>9325</td>\n",
       "      <td>21999</td>\n",
       "      <td>0.12</td>\n",
       "    </tr>\n",
       "    <tr>\n",
       "      <th>428</th>\n",
       "      <td>Xiaomi</td>\n",
       "      <td>Redmi 8A Dual</td>\n",
       "      <td>Blue</td>\n",
       "      <td>32</td>\n",
       "      <td>3</td>\n",
       "      <td>Qualcomm</td>\n",
       "      <td>6.2</td>\n",
       "      <td>Medium</td>\n",
       "      <td>2</td>\n",
       "      <td>1</td>\n",
       "      <td>5000</td>\n",
       "      <td>4.2</td>\n",
       "      <td>16322</td>\n",
       "      <td>8299</td>\n",
       "      <td>0.07</td>\n",
       "    </tr>\n",
       "    <tr>\n",
       "      <th>429</th>\n",
       "      <td>Xiaomi</td>\n",
       "      <td>Redmi 6 Pro</td>\n",
       "      <td>Blue</td>\n",
       "      <td>32</td>\n",
       "      <td>3</td>\n",
       "      <td>Qualcomm</td>\n",
       "      <td>5.8</td>\n",
       "      <td>Small</td>\n",
       "      <td>2</td>\n",
       "      <td>1</td>\n",
       "      <td>4000</td>\n",
       "      <td>4.3</td>\n",
       "      <td>11220</td>\n",
       "      <td>8190</td>\n",
       "      <td>0.36</td>\n",
       "    </tr>\n",
       "  </tbody>\n",
       "</table>\n",
       "<p>430 rows × 15 columns</p>\n",
       "</div>"
      ],
      "text/plain": [
       "      brand           model base_color  ROM  RAM processor  display_size  \\\n",
       "0     Apple       iPhone SE      Black   64    2     Water           4.7   \n",
       "1     Apple  iPhone 12 Mini        Red   64    4   Ceramic           5.4   \n",
       "2     Apple       iPhone SE        Red   64    2     Water           4.7   \n",
       "3     Apple       iPhone XR     Others   64    3       iOS           6.1   \n",
       "4     Apple       iPhone 12        Red  128    4   Ceramic           6.1   \n",
       "..      ...             ...        ...  ...  ...       ...           ...   \n",
       "425  Xiaomi     Redmi 6 Pro      Black   32    3  Qualcomm           5.8   \n",
       "426  Xiaomi     Redmi 6 Pro        Red   64    4  Qualcomm           5.8   \n",
       "427  Xiaomi      Mi 11 Lite     Others  128    6  Qualcomm           6.5   \n",
       "428  Xiaomi   Redmi 8A Dual       Blue   32    3  Qualcomm           6.2   \n",
       "429  Xiaomi     Redmi 6 Pro       Blue   32    3  Qualcomm           5.8   \n",
       "\n",
       "    screen_size  num_rear_camera  num_front_camera  battery_capacity  ratings  \\\n",
       "0    Very Small                1                 1              1800      4.5   \n",
       "1         Small                2                 1              2815      4.5   \n",
       "2    Very Small                1                 1              1800      4.5   \n",
       "3        Medium                1                 1              2942      4.6   \n",
       "4        Medium                2                 1              2815      4.6   \n",
       "..          ...              ...               ...               ...      ...   \n",
       "425       Small                2                 1              4000      4.3   \n",
       "426       Small                2                 1              4000      4.3   \n",
       "427       Large                3                 1              4250      4.2   \n",
       "428      Medium                2                 1              5000      4.2   \n",
       "429       Small                2                 1              4000      4.3   \n",
       "\n",
       "     num_of_ratings  sales_price  discount_percent  \n",
       "0            115935        32999              0.17  \n",
       "1              3898        57149              0.04  \n",
       "2            115935        32999              0.17  \n",
       "3             96594        42999              0.10  \n",
       "4             12669        69149              0.02  \n",
       "..              ...          ...               ...  \n",
       "425           11220         7999              0.30  \n",
       "426           10696         9699              0.28  \n",
       "427            9325        21999              0.12  \n",
       "428           16322         8299              0.07  \n",
       "429           11220         8190              0.36  \n",
       "\n",
       "[430 rows x 15 columns]"
      ]
     },
     "execution_count": 3,
     "metadata": {},
     "output_type": "execute_result"
    }
   ],
   "source": [
    "df"
   ]
  },
  {
   "cell_type": "code",
   "execution_count": 4,
   "id": "4569952d",
   "metadata": {},
   "outputs": [],
   "source": [
    "#Checking Null Values"
   ]
  },
  {
   "cell_type": "code",
   "execution_count": 5,
   "id": "f4e15c97",
   "metadata": {},
   "outputs": [
    {
     "data": {
      "text/plain": [
       "brand               0\n",
       "model               0\n",
       "base_color          0\n",
       "ROM                 0\n",
       "RAM                 0\n",
       "processor           0\n",
       "display_size        0\n",
       "screen_size         0\n",
       "num_rear_camera     0\n",
       "num_front_camera    0\n",
       "battery_capacity    0\n",
       "ratings             0\n",
       "num_of_ratings      0\n",
       "sales_price         0\n",
       "discount_percent    0\n",
       "dtype: int64"
      ]
     },
     "execution_count": 5,
     "metadata": {},
     "output_type": "execute_result"
    }
   ],
   "source": [
    "df.isnull().sum()"
   ]
  },
  {
   "cell_type": "code",
   "execution_count": 6,
   "id": "2934f6e5",
   "metadata": {},
   "outputs": [],
   "source": [
    "#Which Brand Selled The Most"
   ]
  },
  {
   "cell_type": "code",
   "execution_count": 7,
   "id": "98026eb2",
   "metadata": {},
   "outputs": [
    {
     "data": {
      "image/png": "[encoded data removed]",
      "text/plain": [
       "<Figure size 864x360 with 1 Axes>"
      ]
     },
     "metadata": {
      "needs_background": "light"
     },
     "output_type": "display_data"
    }
   ],
   "source": [
    "plt.figure(figsize=(12,5))\n",
    "ax=sns.countplot(df['brand'])\n",
    "for p in ax.patches:\n",
    "    ax.annotate(int(p.get_height()), (p.get_x()+0.32, p.get_height()+1), va = 'bottom', color = 'black')"
   ]
  },
  {
   "cell_type": "code",
   "execution_count": 8,
   "id": "227dca4b",
   "metadata": {},
   "outputs": [],
   "source": [
    "#Which Color Selled The Most"
   ]
  },
  {
   "cell_type": "code",
   "execution_count": 9,
   "id": "7b7dfcbe",
   "metadata": {},
   "outputs": [
    {
     "data": {
      "image/png": "[encoded data removed]",
      "text/plain": [
       "<Figure size 864x360 with 1 Axes>"
      ]
     },
     "metadata": {
      "needs_background": "light"
     },
     "output_type": "display_data"
    }
   ],
   "source": [
    "plt.figure(figsize=(12,5))\n",
    "ax=sns.countplot(df['base_color'])\n",
    "for p in ax.patches:\n",
    "    ax.annotate(int(p.get_height()), (p.get_x()+0.32, p.get_height()+1), va = 'bottom', color = 'black')"
   ]
  },
  {
   "cell_type": "code",
   "execution_count": 10,
   "id": "495aed72",
   "metadata": {},
   "outputs": [],
   "source": [
    "#Distribution of Sales Price"
   ]
  },
  {
   "cell_type": "code",
   "execution_count": 11,
   "id": "6cd7251b",
   "metadata": {},
   "outputs": [
    {
     "data": {
      "image/png": "[encoded data removed]",
      "text/plain": [
       "<Figure size 864x360 with 1 Axes>"
      ]
     },
     "metadata": {
      "needs_background": "light"
     },
     "output_type": "display_data"
    }
   ],
   "source": [
    "plt.figure(figsize=(12,5))\n",
    "sns.distplot(df['sales_price'])\n",
    "plt.show()"
   ]
  },
  {
   "cell_type": "code",
   "execution_count": 12,
   "id": "c07e46a7",
   "metadata": {},
   "outputs": [],
   "source": [
    "#Which Screen Size People Usually Prefer The Most"
   ]
  },
  {
   "cell_type": "code",
   "execution_count": 13,
   "id": "6ac84db8",
   "metadata": {},
   "outputs": [
    {
     "data": {
      "image/png": "[encoded data removed]",
      "text/plain": [
       "<Figure size 864x360 with 1 Axes>"
      ]
     },
     "metadata": {
      "needs_background": "light"
     },
     "output_type": "display_data"
    }
   ],
   "source": [
    "plt.figure(figsize=(12,5))\n",
    "sns.countplot(df['screen_size'],color='darkblue',saturation=0.90)\n",
    "plt.show()"
   ]
  },
  {
   "cell_type": "code",
   "execution_count": 14,
   "id": "fc2dcf9f",
   "metadata": {},
   "outputs": [],
   "source": [
    "#Which Screen Size People Usually Prefer The Most And From Which Brand"
   ]
  },
  {
   "cell_type": "code",
   "execution_count": 15,
   "id": "337e1a3a",
   "metadata": {},
   "outputs": [
    {
     "data": {
      "text/plain": [
       "<matplotlib.legend.Legend at 0x207afbce910>"
      ]
     },
     "execution_count": 15,
     "metadata": {},
     "output_type": "execute_result"
    },
    {
     "data": {
      "image/png": "[encoded data removed]",
      "text/plain": [
       "<Figure size 864x360 with 1 Axes>"
      ]
     },
     "metadata": {
      "needs_background": "light"
     },
     "output_type": "display_data"
    }
   ],
   "source": [
    "plt.figure(figsize=(12,5))\n",
    "sns.countplot(df['screen_size'],color='red',hue=df['brand'])\n",
    "plt.legend(loc='upper left')\n"
   ]
  },
  {
   "cell_type": "code",
   "execution_count": 16,
   "id": "9af0baeb",
   "metadata": {},
   "outputs": [],
   "source": [
    "#People Mostly Prefer 3 or 4 Rear Camera Phones"
   ]
  },
  {
   "cell_type": "code",
   "execution_count": 17,
   "id": "ed8d92c3",
   "metadata": {},
   "outputs": [
    {
     "data": {
      "image/png": "[encoded data removed]",
      "text/plain": [
       "<Figure size 864x360 with 1 Axes>"
      ]
     },
     "metadata": {
      "needs_background": "light"
     },
     "output_type": "display_data"
    }
   ],
   "source": [
    "plt.figure(figsize=(12,5))\n",
    "sns.countplot(df['num_rear_camera'],color='darkgreen',saturation=0.90)\n",
    "plt.show()"
   ]
  },
  {
   "cell_type": "code",
   "execution_count": 18,
   "id": "587b1bd3",
   "metadata": {},
   "outputs": [],
   "source": [
    "#People Mostly Prefer 3 or 4 Rear Camera Phones And From Which Brand"
   ]
  },
  {
   "cell_type": "code",
   "execution_count": 19,
   "id": "64555481",
   "metadata": {},
   "outputs": [
    {
     "data": {
      "text/plain": [
       "<matplotlib.legend.Legend at 0x207afd36e80>"
      ]
     },
     "execution_count": 19,
     "metadata": {},
     "output_type": "execute_result"
    },
    {
     "data": {
      "image/png": "[encoded data removed]",
      "text/plain": [
       "<Figure size 864x360 with 1 Axes>"
      ]
     },
     "metadata": {
      "needs_background": "light"
     },
     "output_type": "display_data"
    }
   ],
   "source": [
    "plt.figure(figsize=(12,5))\n",
    "sns.countplot(df['num_rear_camera'],color='red',hue=df['brand'])\n",
    "plt.legend(loc='upper left')\n"
   ]
  },
  {
   "cell_type": "code",
   "execution_count": 20,
   "id": "d9161bcf",
   "metadata": {},
   "outputs": [],
   "source": [
    "#Which Rating Mobile Has Highest Discount"
   ]
  },
  {
   "cell_type": "code",
   "execution_count": 21,
   "id": "127de7a5",
   "metadata": {},
   "outputs": [
    {
     "data": {
      "image/png": "[encoded data removed]",
      "text/plain": [
       "<Figure size 1224x360 with 1 Axes>"
      ]
     },
     "metadata": {
      "needs_background": "light"
     },
     "output_type": "display_data"
    }
   ],
   "source": [
    "plt.figure(figsize=(17,5))\n",
    "sns.lineplot(x=df['ratings'],y=df['discount_percent'])\n",
    "plt.grid()"
   ]
  },
  {
   "cell_type": "code",
   "execution_count": 22,
   "id": "ad828760",
   "metadata": {},
   "outputs": [],
   "source": [
    "#Which Rating Mobile Has Highest Discount And From Which Brand"
   ]
  },
  {
   "cell_type": "code",
   "execution_count": 23,
   "id": "670dc4a1",
   "metadata": {},
   "outputs": [
    {
     "data": {
      "image/png": "[encoded data removed]",
      "text/plain": [
       "<Figure size 1224x360 with 1 Axes>"
      ]
     },
     "metadata": {
      "needs_background": "light"
     },
     "output_type": "display_data"
    }
   ],
   "source": [
    "plt.figure(figsize=(17,5))\n",
    "sns.lineplot(x=df['ratings'],y=df['discount_percent'],hue=df['brand'],style=df['brand'],markers=False)\n",
    "plt.grid()"
   ]
  },
  {
   "cell_type": "code",
   "execution_count": 24,
   "id": "e9a725fe",
   "metadata": {},
   "outputs": [],
   "source": [
    "#Which Brand Has Highest Discount"
   ]
  },
  {
   "cell_type": "code",
   "execution_count": 25,
   "id": "44def77c",
   "metadata": {},
   "outputs": [
    {
     "data": {
      "image/png": "[encoded data removed]",
      "text/plain": [
       "<Figure size 864x360 with 1 Axes>"
      ]
     },
     "metadata": {
      "needs_background": "light"
     },
     "output_type": "display_data"
    }
   ],
   "source": [
    "plt.figure(figsize=(12,5))\n",
    "sns.barplot(x=df['brand'],y=df['discount_percent'])\n",
    "plt.show()\n"
   ]
  },
  {
   "cell_type": "code",
   "execution_count": 26,
   "id": "a5f489ba",
   "metadata": {},
   "outputs": [],
   "source": [
    "#Checking For Outliers"
   ]
  },
  {
   "cell_type": "code",
   "execution_count": 27,
   "id": "7c026d91",
   "metadata": {},
   "outputs": [
    {
     "data": {
      "image/png": "[encoded data removed]",
      "text/plain": [
       "<Figure size 1224x360 with 1 Axes>"
      ]
     },
     "metadata": {
      "needs_background": "light"
     },
     "output_type": "display_data"
    }
   ],
   "source": [
    "plt.figure(figsize=(17,5))\n",
    "sns.boxplot(df['sales_price'])\n",
    "plt.show()"
   ]
  },
  {
   "cell_type": "code",
   "execution_count": 28,
   "id": "eea7bfb5",
   "metadata": {},
   "outputs": [],
   "source": [
    "#We Have Some Outliers,Now We Have To Remove Them"
   ]
  },
  {
   "cell_type": "code",
   "execution_count": 29,
   "id": "1be785dd",
   "metadata": {},
   "outputs": [
    {
     "data": {
      "text/plain": [
       "17000.0"
      ]
     },
     "execution_count": 29,
     "metadata": {},
     "output_type": "execute_result"
    }
   ],
   "source": [
    "IQR=(df['sales_price'].quantile(0.75))-(df['sales_price'].quantile(0.25))\n",
    "IQR"
   ]
  },
  {
   "cell_type": "code",
   "execution_count": 30,
   "id": "81d99291",
   "metadata": {},
   "outputs": [
    {
     "data": {
      "text/plain": [
       "(-13501.0, 54499.0)"
      ]
     },
     "execution_count": 30,
     "metadata": {},
     "output_type": "execute_result"
    }
   ],
   "source": [
    "lb=abs(df['sales_price'].quantile(0.25))-(1.5*IQR)\n",
    "ub=abs(df['sales_price'].quantile(0.75))+(1.5*IQR)\n",
    "lb,ub\n"
   ]
  },
  {
   "cell_type": "code",
   "execution_count": 31,
   "id": "e61d40dd",
   "metadata": {},
   "outputs": [],
   "source": [
    "df1=df[(df['sales_price']<=ub) & (df['sales_price']>=lb)]"
   ]
  },
  {
   "cell_type": "code",
   "execution_count": 32,
   "id": "56c1fde6",
   "metadata": {},
   "outputs": [],
   "source": [
    "newdf=pd.concat([df,df1]).drop_duplicates(keep=False)\n"
   ]
  },
  {
   "cell_type": "code",
   "execution_count": 33,
   "id": "3264f98c",
   "metadata": {},
   "outputs": [
    {
     "name": "stdout",
     "output_type": "stream",
     "text": [
      "<class 'pandas.core.frame.DataFrame'>\n",
      "Int64Index: 49 entries, 1 to 408\n",
      "Data columns (total 15 columns):\n",
      " #   Column            Non-Null Count  Dtype  \n",
      "---  ------            --------------  -----  \n",
      " 0   brand             49 non-null     object \n",
      " 1   model             49 non-null     object \n",
      " 2   base_color        49 non-null     object \n",
      " 3   ROM               49 non-null     int64  \n",
      " 4   RAM               49 non-null     int64  \n",
      " 5   processor         49 non-null     object \n",
      " 6   display_size      49 non-null     float64\n",
      " 7   screen_size       49 non-null     object \n",
      " 8   num_rear_camera   49 non-null     int64  \n",
      " 9   num_front_camera  49 non-null     int64  \n",
      " 10  battery_capacity  49 non-null     int64  \n",
      " 11  ratings           49 non-null     float64\n",
      " 12  num_of_ratings    49 non-null     int64  \n",
      " 13  sales_price       49 non-null     int64  \n",
      " 14  discount_percent  49 non-null     float64\n",
      "dtypes: float64(3), int64(7), object(5)\n",
      "memory usage: 6.1+ KB\n"
     ]
    }
   ],
   "source": [
    "newdf.info()"
   ]
  },
  {
   "cell_type": "code",
   "execution_count": 34,
   "id": "f8696e98",
   "metadata": {},
   "outputs": [],
   "source": [
    "#Total 49 Outliers Found"
   ]
  },
  {
   "cell_type": "code",
   "execution_count": 35,
   "id": "daa0e002",
   "metadata": {},
   "outputs": [],
   "source": [
    "#Distribution Before Removing Outliers"
   ]
  },
  {
   "cell_type": "code",
   "execution_count": 36,
   "id": "287a333f",
   "metadata": {},
   "outputs": [
    {
     "data": {
      "image/png": "[encoded data removed]",
      "text/plain": [
       "<Figure size 1224x360 with 1 Axes>"
      ]
     },
     "metadata": {
      "needs_background": "light"
     },
     "output_type": "display_data"
    }
   ],
   "source": [
    "plt.figure(figsize=(17,5))\n",
    "sns.distplot(df['sales_price'])\n",
    "plt.grid()"
   ]
  },
  {
   "cell_type": "code",
   "execution_count": 37,
   "id": "be98b35d",
   "metadata": {},
   "outputs": [],
   "source": [
    "#Distribution After Removing Outliers"
   ]
  },
  {
   "cell_type": "code",
   "execution_count": 38,
   "id": "499befe8",
   "metadata": {},
   "outputs": [
    {
     "data": {
      "image/png": "[encoded data removed]",
      "text/plain": [
       "<Figure size 1224x360 with 1 Axes>"
      ]
     },
     "metadata": {
      "needs_background": "light"
     },
     "output_type": "display_data"
    }
   ],
   "source": [
    "plt.figure(figsize=(17,5))\n",
    "sns.distplot(df1['sales_price'])\n",
    "plt.grid()"
   ]
  },
  {
   "cell_type": "code",
   "execution_count": 39,
   "id": "eea690ad",
   "metadata": {},
   "outputs": [],
   "source": [
    "#Which Brand Gives Highest Battery Capacity"
   ]
  },
  {
   "cell_type": "code",
   "execution_count": 40,
   "id": "a82d48d7",
   "metadata": {},
   "outputs": [
    {
     "data": {
      "image/png": "[encoded data removed]",
      "text/plain": [
       "<Figure size 1224x360 with 1 Axes>"
      ]
     },
     "metadata": {
      "needs_background": "light"
     },
     "output_type": "display_data"
    }
   ],
   "source": [
    "plt.figure(figsize=(17,5))\n",
    "sns.lineplot(x=df['brand'],y=df['battery_capacity'])\n",
    "plt.grid()\n",
    "plt.show()"
   ]
  },
  {
   "cell_type": "code",
   "execution_count": 41,
   "id": "9ff8fb83",
   "metadata": {},
   "outputs": [
    {
     "data": {
      "text/html": [
       "<div>\n",
       "<style scoped>\n",
       "    .dataframe tbody tr th:only-of-type {\n",
       "        vertical-align: middle;\n",
       "    }\n",
       "\n",
       "    .dataframe tbody tr th {\n",
       "        vertical-align: top;\n",
       "    }\n",
       "\n",
       "    .dataframe thead th {\n",
       "        text-align: right;\n",
       "    }\n",
       "</style>\n",
       "<table border=\"1\" class=\"dataframe\">\n",
       "  <thead>\n",
       "    <tr style=\"text-align: right;\">\n",
       "      <th></th>\n",
       "      <th>brand</th>\n",
       "      <th>model</th>\n",
       "      <th>base_color</th>\n",
       "      <th>ROM</th>\n",
       "      <th>RAM</th>\n",
       "      <th>processor</th>\n",
       "      <th>display_size</th>\n",
       "      <th>screen_size</th>\n",
       "      <th>num_rear_camera</th>\n",
       "      <th>num_front_camera</th>\n",
       "      <th>battery_capacity</th>\n",
       "      <th>ratings</th>\n",
       "      <th>num_of_ratings</th>\n",
       "      <th>sales_price</th>\n",
       "      <th>discount_percent</th>\n",
       "    </tr>\n",
       "  </thead>\n",
       "  <tbody>\n",
       "    <tr>\n",
       "      <th>0</th>\n",
       "      <td>Apple</td>\n",
       "      <td>iPhone SE</td>\n",
       "      <td>Black</td>\n",
       "      <td>64</td>\n",
       "      <td>2</td>\n",
       "      <td>Water</td>\n",
       "      <td>4.7</td>\n",
       "      <td>Very Small</td>\n",
       "      <td>1</td>\n",
       "      <td>1</td>\n",
       "      <td>1800</td>\n",
       "      <td>4.5</td>\n",
       "      <td>115935</td>\n",
       "      <td>32999</td>\n",
       "      <td>0.17</td>\n",
       "    </tr>\n",
       "    <tr>\n",
       "      <th>2</th>\n",
       "      <td>Apple</td>\n",
       "      <td>iPhone SE</td>\n",
       "      <td>Red</td>\n",
       "      <td>64</td>\n",
       "      <td>2</td>\n",
       "      <td>Water</td>\n",
       "      <td>4.7</td>\n",
       "      <td>Very Small</td>\n",
       "      <td>1</td>\n",
       "      <td>1</td>\n",
       "      <td>1800</td>\n",
       "      <td>4.5</td>\n",
       "      <td>115935</td>\n",
       "      <td>32999</td>\n",
       "      <td>0.17</td>\n",
       "    </tr>\n",
       "    <tr>\n",
       "      <th>3</th>\n",
       "      <td>Apple</td>\n",
       "      <td>iPhone XR</td>\n",
       "      <td>Others</td>\n",
       "      <td>64</td>\n",
       "      <td>3</td>\n",
       "      <td>iOS</td>\n",
       "      <td>6.1</td>\n",
       "      <td>Medium</td>\n",
       "      <td>1</td>\n",
       "      <td>1</td>\n",
       "      <td>2942</td>\n",
       "      <td>4.6</td>\n",
       "      <td>96594</td>\n",
       "      <td>42999</td>\n",
       "      <td>0.10</td>\n",
       "    </tr>\n",
       "    <tr>\n",
       "      <th>15</th>\n",
       "      <td>Apple</td>\n",
       "      <td>iPhone XR</td>\n",
       "      <td>White</td>\n",
       "      <td>128</td>\n",
       "      <td>3</td>\n",
       "      <td>Water</td>\n",
       "      <td>6.1</td>\n",
       "      <td>Medium</td>\n",
       "      <td>1</td>\n",
       "      <td>1</td>\n",
       "      <td>2942</td>\n",
       "      <td>4.6</td>\n",
       "      <td>96594</td>\n",
       "      <td>47999</td>\n",
       "      <td>0.09</td>\n",
       "    </tr>\n",
       "    <tr>\n",
       "      <th>21</th>\n",
       "      <td>Apple</td>\n",
       "      <td>iPhone XR</td>\n",
       "      <td>Yellow</td>\n",
       "      <td>128</td>\n",
       "      <td>3</td>\n",
       "      <td>Water</td>\n",
       "      <td>6.1</td>\n",
       "      <td>Medium</td>\n",
       "      <td>1</td>\n",
       "      <td>1</td>\n",
       "      <td>2942</td>\n",
       "      <td>4.6</td>\n",
       "      <td>96594</td>\n",
       "      <td>47999</td>\n",
       "      <td>0.09</td>\n",
       "    </tr>\n",
       "  </tbody>\n",
       "</table>\n",
       "</div>"
      ],
      "text/plain": [
       "    brand      model base_color  ROM  RAM processor  display_size screen_size  \\\n",
       "0   Apple  iPhone SE      Black   64    2     Water           4.7  Very Small   \n",
       "2   Apple  iPhone SE        Red   64    2     Water           4.7  Very Small   \n",
       "3   Apple  iPhone XR     Others   64    3       iOS           6.1      Medium   \n",
       "15  Apple  iPhone XR      White  128    3     Water           6.1      Medium   \n",
       "21  Apple  iPhone XR     Yellow  128    3     Water           6.1      Medium   \n",
       "\n",
       "    num_rear_camera  num_front_camera  battery_capacity  ratings  \\\n",
       "0                 1                 1              1800      4.5   \n",
       "2                 1                 1              1800      4.5   \n",
       "3                 1                 1              2942      4.6   \n",
       "15                1                 1              2942      4.6   \n",
       "21                1                 1              2942      4.6   \n",
       "\n",
       "    num_of_ratings  sales_price  discount_percent  \n",
       "0           115935        32999              0.17  \n",
       "2           115935        32999              0.17  \n",
       "3            96594        42999              0.10  \n",
       "15           96594        47999              0.09  \n",
       "21           96594        47999              0.09  "
      ]
     },
     "execution_count": 41,
     "metadata": {},
     "output_type": "execute_result"
    }
   ],
   "source": [
    "df1.head()"
   ]
  },
  {
   "cell_type": "code",
   "execution_count": 42,
   "id": "46d33cd7",
   "metadata": {},
   "outputs": [],
   "source": [
    "#Encoding The Categorical Columns"
   ]
  },
  {
   "cell_type": "code",
   "execution_count": 43,
   "id": "39b52f89",
   "metadata": {},
   "outputs": [],
   "source": [
    "lv1=LabelEncoder()\n",
    "lv2=LabelEncoder()\n",
    "lv3=LabelEncoder()\n",
    "lv4=LabelEncoder()\n",
    "lv5=LabelEncoder()\n",
    "\n"
   ]
  },
  {
   "cell_type": "code",
   "execution_count": 44,
   "id": "c56ac1a6",
   "metadata": {},
   "outputs": [],
   "source": [
    "df1['brand']=lv1.fit_transform(df1['brand'])\n",
    "df1['model']=lv2.fit_transform(df1['model'])\n",
    "df1['base_color']=lv3.fit_transform(df1['base_color'])\n",
    "df1['processor']=lv4.fit_transform(df1['processor'])\n",
    "df1['screen_size']=lv5.fit_transform(df1['screen_size'])"
   ]
  },
  {
   "cell_type": "code",
   "execution_count": 45,
   "id": "96e179c9",
   "metadata": {},
   "outputs": [],
   "source": [
    "#Finding Highly Correlated Features And Removing Them By Using HeatMap"
   ]
  },
  {
   "cell_type": "code",
   "execution_count": 46,
   "id": "c2649b9d",
   "metadata": {},
   "outputs": [
    {
     "data": {
      "text/html": [
       "<div>\n",
       "<style scoped>\n",
       "    .dataframe tbody tr th:only-of-type {\n",
       "        vertical-align: middle;\n",
       "    }\n",
       "\n",
       "    .dataframe tbody tr th {\n",
       "        vertical-align: top;\n",
       "    }\n",
       "\n",
       "    .dataframe thead th {\n",
       "        text-align: right;\n",
       "    }\n",
       "</style>\n",
       "<table border=\"1\" class=\"dataframe\">\n",
       "  <thead>\n",
       "    <tr style=\"text-align: right;\">\n",
       "      <th></th>\n",
       "      <th>brand</th>\n",
       "      <th>model</th>\n",
       "      <th>base_color</th>\n",
       "      <th>ROM</th>\n",
       "      <th>RAM</th>\n",
       "      <th>processor</th>\n",
       "      <th>display_size</th>\n",
       "      <th>screen_size</th>\n",
       "      <th>num_rear_camera</th>\n",
       "      <th>num_front_camera</th>\n",
       "      <th>battery_capacity</th>\n",
       "      <th>ratings</th>\n",
       "      <th>num_of_ratings</th>\n",
       "      <th>sales_price</th>\n",
       "      <th>discount_percent</th>\n",
       "    </tr>\n",
       "  </thead>\n",
       "  <tbody>\n",
       "    <tr>\n",
       "      <th>brand</th>\n",
       "      <td>1.000000</td>\n",
       "      <td>-0.055106</td>\n",
       "      <td>-0.105196</td>\n",
       "      <td>-0.115640</td>\n",
       "      <td>0.044366</td>\n",
       "      <td>-0.198883</td>\n",
       "      <td>0.042209</td>\n",
       "      <td>0.040207</td>\n",
       "      <td>0.048886</td>\n",
       "      <td>0.061129</td>\n",
       "      <td>0.095813</td>\n",
       "      <td>-0.371341</td>\n",
       "      <td>-0.098584</td>\n",
       "      <td>-0.312522</td>\n",
       "      <td>-0.048130</td>\n",
       "    </tr>\n",
       "    <tr>\n",
       "      <th>model</th>\n",
       "      <td>-0.055106</td>\n",
       "      <td>1.000000</td>\n",
       "      <td>0.095720</td>\n",
       "      <td>0.062260</td>\n",
       "      <td>-0.006903</td>\n",
       "      <td>0.421673</td>\n",
       "      <td>-0.195924</td>\n",
       "      <td>0.165861</td>\n",
       "      <td>-0.306039</td>\n",
       "      <td>0.224559</td>\n",
       "      <td>-0.269516</td>\n",
       "      <td>0.236785</td>\n",
       "      <td>0.048240</td>\n",
       "      <td>0.308889</td>\n",
       "      <td>0.021477</td>\n",
       "    </tr>\n",
       "    <tr>\n",
       "      <th>base_color</th>\n",
       "      <td>-0.105196</td>\n",
       "      <td>0.095720</td>\n",
       "      <td>1.000000</td>\n",
       "      <td>0.108326</td>\n",
       "      <td>0.078765</td>\n",
       "      <td>0.068776</td>\n",
       "      <td>-0.006095</td>\n",
       "      <td>0.016796</td>\n",
       "      <td>0.016970</td>\n",
       "      <td>0.061860</td>\n",
       "      <td>-0.100165</td>\n",
       "      <td>0.054496</td>\n",
       "      <td>-0.084168</td>\n",
       "      <td>0.177226</td>\n",
       "      <td>-0.050623</td>\n",
       "    </tr>\n",
       "    <tr>\n",
       "      <th>ROM</th>\n",
       "      <td>-0.115640</td>\n",
       "      <td>0.062260</td>\n",
       "      <td>0.108326</td>\n",
       "      <td>1.000000</td>\n",
       "      <td>0.788394</td>\n",
       "      <td>0.037495</td>\n",
       "      <td>0.313930</td>\n",
       "      <td>-0.125306</td>\n",
       "      <td>0.378211</td>\n",
       "      <td>0.179778</td>\n",
       "      <td>0.065677</td>\n",
       "      <td>-0.041583</td>\n",
       "      <td>-0.250156</td>\n",
       "      <td>0.532957</td>\n",
       "      <td>-0.025711</td>\n",
       "    </tr>\n",
       "    <tr>\n",
       "      <th>RAM</th>\n",
       "      <td>0.044366</td>\n",
       "      <td>-0.006903</td>\n",
       "      <td>0.078765</td>\n",
       "      <td>0.788394</td>\n",
       "      <td>1.000000</td>\n",
       "      <td>-0.042030</td>\n",
       "      <td>0.433548</td>\n",
       "      <td>-0.215524</td>\n",
       "      <td>0.544769</td>\n",
       "      <td>0.188078</td>\n",
       "      <td>0.184939</td>\n",
       "      <td>-0.142020</td>\n",
       "      <td>-0.232914</td>\n",
       "      <td>0.402925</td>\n",
       "      <td>-0.008059</td>\n",
       "    </tr>\n",
       "    <tr>\n",
       "      <th>processor</th>\n",
       "      <td>-0.198883</td>\n",
       "      <td>0.421673</td>\n",
       "      <td>0.068776</td>\n",
       "      <td>0.037495</td>\n",
       "      <td>-0.042030</td>\n",
       "      <td>1.000000</td>\n",
       "      <td>-0.280430</td>\n",
       "      <td>0.320767</td>\n",
       "      <td>-0.277902</td>\n",
       "      <td>0.165434</td>\n",
       "      <td>-0.518698</td>\n",
       "      <td>0.428124</td>\n",
       "      <td>0.007281</td>\n",
       "      <td>0.396336</td>\n",
       "      <td>-0.212611</td>\n",
       "    </tr>\n",
       "    <tr>\n",
       "      <th>display_size</th>\n",
       "      <td>0.042209</td>\n",
       "      <td>-0.195924</td>\n",
       "      <td>-0.006095</td>\n",
       "      <td>0.313930</td>\n",
       "      <td>0.433548</td>\n",
       "      <td>-0.280430</td>\n",
       "      <td>1.000000</td>\n",
       "      <td>-0.865844</td>\n",
       "      <td>0.616818</td>\n",
       "      <td>0.088257</td>\n",
       "      <td>0.679319</td>\n",
       "      <td>-0.285376</td>\n",
       "      <td>-0.103147</td>\n",
       "      <td>-0.076341</td>\n",
       "      <td>0.009454</td>\n",
       "    </tr>\n",
       "    <tr>\n",
       "      <th>screen_size</th>\n",
       "      <td>0.040207</td>\n",
       "      <td>0.165861</td>\n",
       "      <td>0.016796</td>\n",
       "      <td>-0.125306</td>\n",
       "      <td>-0.215524</td>\n",
       "      <td>0.320767</td>\n",
       "      <td>-0.865844</td>\n",
       "      <td>1.000000</td>\n",
       "      <td>-0.493720</td>\n",
       "      <td>-0.053707</td>\n",
       "      <td>-0.609308</td>\n",
       "      <td>0.321394</td>\n",
       "      <td>0.094731</td>\n",
       "      <td>0.131827</td>\n",
       "      <td>-0.027853</td>\n",
       "    </tr>\n",
       "    <tr>\n",
       "      <th>num_rear_camera</th>\n",
       "      <td>0.048886</td>\n",
       "      <td>-0.306039</td>\n",
       "      <td>0.016970</td>\n",
       "      <td>0.378211</td>\n",
       "      <td>0.544769</td>\n",
       "      <td>-0.277902</td>\n",
       "      <td>0.616818</td>\n",
       "      <td>-0.493720</td>\n",
       "      <td>1.000000</td>\n",
       "      <td>0.040056</td>\n",
       "      <td>0.540079</td>\n",
       "      <td>-0.292227</td>\n",
       "      <td>-0.158965</td>\n",
       "      <td>-0.091836</td>\n",
       "      <td>0.079515</td>\n",
       "    </tr>\n",
       "    <tr>\n",
       "      <th>num_front_camera</th>\n",
       "      <td>0.061129</td>\n",
       "      <td>0.224559</td>\n",
       "      <td>0.061860</td>\n",
       "      <td>0.179778</td>\n",
       "      <td>0.188078</td>\n",
       "      <td>0.165434</td>\n",
       "      <td>0.088257</td>\n",
       "      <td>-0.053707</td>\n",
       "      <td>0.040056</td>\n",
       "      <td>1.000000</td>\n",
       "      <td>-0.135603</td>\n",
       "      <td>0.101514</td>\n",
       "      <td>0.059248</td>\n",
       "      <td>0.091647</td>\n",
       "      <td>-0.058694</td>\n",
       "    </tr>\n",
       "    <tr>\n",
       "      <th>battery_capacity</th>\n",
       "      <td>0.095813</td>\n",
       "      <td>-0.269516</td>\n",
       "      <td>-0.100165</td>\n",
       "      <td>0.065677</td>\n",
       "      <td>0.184939</td>\n",
       "      <td>-0.518698</td>\n",
       "      <td>0.679319</td>\n",
       "      <td>-0.609308</td>\n",
       "      <td>0.540079</td>\n",
       "      <td>-0.135603</td>\n",
       "      <td>1.000000</td>\n",
       "      <td>-0.411973</td>\n",
       "      <td>0.041906</td>\n",
       "      <td>-0.410548</td>\n",
       "      <td>0.092276</td>\n",
       "    </tr>\n",
       "    <tr>\n",
       "      <th>ratings</th>\n",
       "      <td>-0.371341</td>\n",
       "      <td>0.236785</td>\n",
       "      <td>0.054496</td>\n",
       "      <td>-0.041583</td>\n",
       "      <td>-0.142020</td>\n",
       "      <td>0.428124</td>\n",
       "      <td>-0.285376</td>\n",
       "      <td>0.321394</td>\n",
       "      <td>-0.292227</td>\n",
       "      <td>0.101514</td>\n",
       "      <td>-0.411973</td>\n",
       "      <td>1.000000</td>\n",
       "      <td>0.285289</td>\n",
       "      <td>0.220707</td>\n",
       "      <td>0.034997</td>\n",
       "    </tr>\n",
       "    <tr>\n",
       "      <th>num_of_ratings</th>\n",
       "      <td>-0.098584</td>\n",
       "      <td>0.048240</td>\n",
       "      <td>-0.084168</td>\n",
       "      <td>-0.250156</td>\n",
       "      <td>-0.232914</td>\n",
       "      <td>0.007281</td>\n",
       "      <td>-0.103147</td>\n",
       "      <td>0.094731</td>\n",
       "      <td>-0.158965</td>\n",
       "      <td>0.059248</td>\n",
       "      <td>0.041906</td>\n",
       "      <td>0.285289</td>\n",
       "      <td>1.000000</td>\n",
       "      <td>-0.281970</td>\n",
       "      <td>0.153567</td>\n",
       "    </tr>\n",
       "    <tr>\n",
       "      <th>sales_price</th>\n",
       "      <td>-0.312522</td>\n",
       "      <td>0.308889</td>\n",
       "      <td>0.177226</td>\n",
       "      <td>0.532957</td>\n",
       "      <td>0.402925</td>\n",
       "      <td>0.396336</td>\n",
       "      <td>-0.076341</td>\n",
       "      <td>0.131827</td>\n",
       "      <td>-0.091836</td>\n",
       "      <td>0.091647</td>\n",
       "      <td>-0.410548</td>\n",
       "      <td>0.220707</td>\n",
       "      <td>-0.281970</td>\n",
       "      <td>1.000000</td>\n",
       "      <td>-0.037372</td>\n",
       "    </tr>\n",
       "    <tr>\n",
       "      <th>discount_percent</th>\n",
       "      <td>-0.048130</td>\n",
       "      <td>0.021477</td>\n",
       "      <td>-0.050623</td>\n",
       "      <td>-0.025711</td>\n",
       "      <td>-0.008059</td>\n",
       "      <td>-0.212611</td>\n",
       "      <td>0.009454</td>\n",
       "      <td>-0.027853</td>\n",
       "      <td>0.079515</td>\n",
       "      <td>-0.058694</td>\n",
       "      <td>0.092276</td>\n",
       "      <td>0.034997</td>\n",
       "      <td>0.153567</td>\n",
       "      <td>-0.037372</td>\n",
       "      <td>1.000000</td>\n",
       "    </tr>\n",
       "  </tbody>\n",
       "</table>\n",
       "</div>"
      ],
      "text/plain": [
       "                     brand     model  base_color       ROM       RAM  \\\n",
       "brand             1.000000 -0.055106   -0.105196 -0.115640  0.044366   \n",
       "model            -0.055106  1.000000    0.095720  0.062260 -0.006903   \n",
       "base_color       -0.105196  0.095720    1.000000  0.108326  0.078765   \n",
       "ROM              -0.115640  0.062260    0.108326  1.000000  0.788394   \n",
       "RAM               0.044366 -0.006903    0.078765  0.788394  1.000000   \n",
       "processor        -0.198883  0.421673    0.068776  0.037495 -0.042030   \n",
       "display_size      0.042209 -0.195924   -0.006095  0.313930  0.433548   \n",
       "screen_size       0.040207  0.165861    0.016796 -0.125306 -0.215524   \n",
       "num_rear_camera   0.048886 -0.306039    0.016970  0.378211  0.544769   \n",
       "num_front_camera  0.061129  0.224559    0.061860  0.179778  0.188078   \n",
       "battery_capacity  0.095813 -0.269516   -0.100165  0.065677  0.184939   \n",
       "ratings          -0.371341  0.236785    0.054496 -0.041583 -0.142020   \n",
       "num_of_ratings   -0.098584  0.048240   -0.084168 -0.250156 -0.232914   \n",
       "sales_price      -0.312522  0.308889    0.177226  0.532957  0.402925   \n",
       "discount_percent -0.048130  0.021477   -0.050623 -0.025711 -0.008059   \n",
       "\n",
       "                  processor  display_size  screen_size  num_rear_camera  \\\n",
       "brand             -0.198883      0.042209     0.040207         0.048886   \n",
       "model              0.421673     -0.195924     0.165861        -0.306039   \n",
       "base_color         0.068776     -0.006095     0.016796         0.016970   \n",
       "ROM                0.037495      0.313930    -0.125306         0.378211   \n",
       "RAM               -0.042030      0.433548    -0.215524         0.544769   \n",
       "processor          1.000000     -0.280430     0.320767        -0.277902   \n",
       "display_size      -0.280430      1.000000    -0.865844         0.616818   \n",
       "screen_size        0.320767     -0.865844     1.000000        -0.493720   \n",
       "num_rear_camera   -0.277902      0.616818    -0.493720         1.000000   \n",
       "num_front_camera   0.165434      0.088257    -0.053707         0.040056   \n",
       "battery_capacity  -0.518698      0.679319    -0.609308         0.540079   \n",
       "ratings            0.428124     -0.285376     0.321394        -0.292227   \n",
       "num_of_ratings     0.007281     -0.103147     0.094731        -0.158965   \n",
       "sales_price        0.396336     -0.076341     0.131827        -0.091836   \n",
       "discount_percent  -0.212611      0.009454    -0.027853         0.079515   \n",
       "\n",
       "                  num_front_camera  battery_capacity   ratings  \\\n",
       "brand                     0.061129          0.095813 -0.371341   \n",
       "model                     0.224559         -0.269516  0.236785   \n",
       "base_color                0.061860         -0.100165  0.054496   \n",
       "ROM                       0.179778          0.065677 -0.041583   \n",
       "RAM                       0.188078          0.184939 -0.142020   \n",
       "processor                 0.165434         -0.518698  0.428124   \n",
       "display_size              0.088257          0.679319 -0.285376   \n",
       "screen_size              -0.053707         -0.609308  0.321394   \n",
       "num_rear_camera           0.040056          0.540079 -0.292227   \n",
       "num_front_camera          1.000000         -0.135603  0.101514   \n",
       "battery_capacity         -0.135603          1.000000 -0.411973   \n",
       "ratings                   0.101514         -0.411973  1.000000   \n",
       "num_of_ratings            0.059248          0.041906  0.285289   \n",
       "sales_price               0.091647         -0.410548  0.220707   \n",
       "discount_percent         -0.058694          0.092276  0.034997   \n",
       "\n",
       "                  num_of_ratings  sales_price  discount_percent  \n",
       "brand                  -0.098584    -0.312522         -0.048130  \n",
       "model                   0.048240     0.308889          0.021477  \n",
       "base_color             -0.084168     0.177226         -0.050623  \n",
       "ROM                    -0.250156     0.532957         -0.025711  \n",
       "RAM                    -0.232914     0.402925         -0.008059  \n",
       "processor               0.007281     0.396336         -0.212611  \n",
       "display_size           -0.103147    -0.076341          0.009454  \n",
       "screen_size             0.094731     0.131827         -0.027853  \n",
       "num_rear_camera        -0.158965    -0.091836          0.079515  \n",
       "num_front_camera        0.059248     0.091647         -0.058694  \n",
       "battery_capacity        0.041906    -0.410548          0.092276  \n",
       "ratings                 0.285289     0.220707          0.034997  \n",
       "num_of_ratings          1.000000    -0.281970          0.153567  \n",
       "sales_price            -0.281970     1.000000         -0.037372  \n",
       "discount_percent        0.153567    -0.037372          1.000000  "
      ]
     },
     "execution_count": 46,
     "metadata": {},
     "output_type": "execute_result"
    }
   ],
   "source": [
    "cor=df1.corr()\n",
    "cor"
   ]
  },
  {
   "cell_type": "code",
   "execution_count": 47,
   "id": "c235d02f",
   "metadata": {},
   "outputs": [
    {
     "data": {
      "text/plain": [
       "<AxesSubplot:>"
      ]
     },
     "execution_count": 47,
     "metadata": {},
     "output_type": "execute_result"
    },
    {
     "data": {
      "image/png": "[encoded data removed]",
      "text/plain": [
       "<Figure size 1080x432 with 2 Axes>"
      ]
     },
     "metadata": {
      "needs_background": "light"
     },
     "output_type": "display_data"
    }
   ],
   "source": [
    "plt.figure(figsize=(15,6))\n",
    "sns.heatmap(cor,annot=True)"
   ]
  },
  {
   "cell_type": "code",
   "execution_count": 48,
   "id": "a5873bb6",
   "metadata": {},
   "outputs": [],
   "source": [
    "def correlation(dataset, threshold):\n",
    "    col_corr = set()  # Set of all the names of correlated columns\n",
    "    corr_matrix = dataset.corr()\n",
    "    for i in range(len(corr_matrix.columns)):\n",
    "        for j in range(i):\n",
    "            if abs(corr_matrix.iloc[i, j]) > threshold: # we are interested in absolute coeff value\n",
    "                colname = corr_matrix.columns[i]  # getting the name of column\n",
    "                col_corr.add(colname)\n",
    "    return col_corr"
   ]
  },
  {
   "cell_type": "code",
   "execution_count": 49,
   "id": "090e8dd3",
   "metadata": {},
   "outputs": [
    {
     "data": {
      "text/plain": [
       "{'screen_size'}"
      ]
     },
     "execution_count": 49,
     "metadata": {},
     "output_type": "execute_result"
    }
   ],
   "source": [
    "features=correlation(df1,0.85) ### I am Just Giving Threshold as 0.85\n",
    "features"
   ]
  },
  {
   "cell_type": "code",
   "execution_count": 50,
   "id": "fd5933ee",
   "metadata": {},
   "outputs": [],
   "source": [
    "df1.drop(columns=['screen_size'],inplace=True)"
   ]
  },
  {
   "cell_type": "code",
   "execution_count": 51,
   "id": "38f4c75f",
   "metadata": {},
   "outputs": [],
   "source": [
    "#Let Us Split The Data Into Train-Test-Split"
   ]
  },
  {
   "cell_type": "code",
   "execution_count": 52,
   "id": "9eeac9a3",
   "metadata": {},
   "outputs": [],
   "source": [
    "x=df1.drop(columns=['sales_price'])\n",
    "y=df1['sales_price']"
   ]
  },
  {
   "cell_type": "code",
   "execution_count": 53,
   "id": "94d2f76c",
   "metadata": {},
   "outputs": [],
   "source": [
    "x_train,x_test,y_train,y_test=train_test_split(x,y,test_size=0.2,random_state=0)"
   ]
  },
  {
   "cell_type": "code",
   "execution_count": 54,
   "id": "8bfeba0f",
   "metadata": {},
   "outputs": [
    {
     "data": {
      "text/html": [
       "<div>\n",
       "<style scoped>\n",
       "    .dataframe tbody tr th:only-of-type {\n",
       "        vertical-align: middle;\n",
       "    }\n",
       "\n",
       "    .dataframe tbody tr th {\n",
       "        vertical-align: top;\n",
       "    }\n",
       "\n",
       "    .dataframe thead th {\n",
       "        text-align: right;\n",
       "    }\n",
       "</style>\n",
       "<table border=\"1\" class=\"dataframe\">\n",
       "  <thead>\n",
       "    <tr style=\"text-align: right;\">\n",
       "      <th></th>\n",
       "      <th>brand</th>\n",
       "      <th>model</th>\n",
       "      <th>base_color</th>\n",
       "      <th>ROM</th>\n",
       "      <th>RAM</th>\n",
       "      <th>processor</th>\n",
       "      <th>display_size</th>\n",
       "      <th>num_rear_camera</th>\n",
       "      <th>num_front_camera</th>\n",
       "      <th>battery_capacity</th>\n",
       "      <th>ratings</th>\n",
       "      <th>num_of_ratings</th>\n",
       "      <th>discount_percent</th>\n",
       "    </tr>\n",
       "  </thead>\n",
       "  <tbody>\n",
       "    <tr>\n",
       "      <th>223</th>\n",
       "      <td>2</td>\n",
       "      <td>0</td>\n",
       "      <td>0</td>\n",
       "      <td>64</td>\n",
       "      <td>4</td>\n",
       "      <td>1</td>\n",
       "      <td>6.2</td>\n",
       "      <td>2</td>\n",
       "      <td>1</td>\n",
       "      <td>4230</td>\n",
       "      <td>4.4</td>\n",
       "      <td>78903</td>\n",
       "      <td>0.04</td>\n",
       "    </tr>\n",
       "    <tr>\n",
       "      <th>351</th>\n",
       "      <td>3</td>\n",
       "      <td>45</td>\n",
       "      <td>4</td>\n",
       "      <td>128</td>\n",
       "      <td>8</td>\n",
       "      <td>0</td>\n",
       "      <td>6.7</td>\n",
       "      <td>4</td>\n",
       "      <td>1</td>\n",
       "      <td>7000</td>\n",
       "      <td>4.3</td>\n",
       "      <td>28475</td>\n",
       "      <td>0.18</td>\n",
       "    </tr>\n",
       "    <tr>\n",
       "      <th>271</th>\n",
       "      <td>3</td>\n",
       "      <td>53</td>\n",
       "      <td>1</td>\n",
       "      <td>128</td>\n",
       "      <td>8</td>\n",
       "      <td>2</td>\n",
       "      <td>6.4</td>\n",
       "      <td>4</td>\n",
       "      <td>1</td>\n",
       "      <td>6000</td>\n",
       "      <td>4.3</td>\n",
       "      <td>1714</td>\n",
       "      <td>0.01</td>\n",
       "    </tr>\n",
       "    <tr>\n",
       "      <th>379</th>\n",
       "      <td>4</td>\n",
       "      <td>92</td>\n",
       "      <td>8</td>\n",
       "      <td>64</td>\n",
       "      <td>6</td>\n",
       "      <td>3</td>\n",
       "      <td>6.3</td>\n",
       "      <td>2</td>\n",
       "      <td>2</td>\n",
       "      <td>4000</td>\n",
       "      <td>4.5</td>\n",
       "      <td>126998</td>\n",
       "      <td>0.05</td>\n",
       "    </tr>\n",
       "    <tr>\n",
       "      <th>168</th>\n",
       "      <td>2</td>\n",
       "      <td>23</td>\n",
       "      <td>4</td>\n",
       "      <td>256</td>\n",
       "      <td>8</td>\n",
       "      <td>3</td>\n",
       "      <td>6.4</td>\n",
       "      <td>3</td>\n",
       "      <td>1</td>\n",
       "      <td>4300</td>\n",
       "      <td>4.3</td>\n",
       "      <td>946</td>\n",
       "      <td>0.06</td>\n",
       "    </tr>\n",
       "  </tbody>\n",
       "</table>\n",
       "</div>"
      ],
      "text/plain": [
       "     brand  model  base_color  ROM  RAM  processor  display_size  \\\n",
       "223      2      0           0   64    4          1           6.2   \n",
       "351      3     45           4  128    8          0           6.7   \n",
       "271      3     53           1  128    8          2           6.4   \n",
       "379      4     92           8   64    6          3           6.3   \n",
       "168      2     23           4  256    8          3           6.4   \n",
       "\n",
       "     num_rear_camera  num_front_camera  battery_capacity  ratings  \\\n",
       "223                2                 1              4230      4.4   \n",
       "351                4                 1              7000      4.3   \n",
       "271                4                 1              6000      4.3   \n",
       "379                2                 2              4000      4.5   \n",
       "168                3                 1              4300      4.3   \n",
       "\n",
       "     num_of_ratings  discount_percent  \n",
       "223           78903              0.04  \n",
       "351           28475              0.18  \n",
       "271            1714              0.01  \n",
       "379          126998              0.05  \n",
       "168             946              0.06  "
      ]
     },
     "execution_count": 54,
     "metadata": {},
     "output_type": "execute_result"
    }
   ],
   "source": [
    "x_train.head()"
   ]
  },
  {
   "cell_type": "code",
   "execution_count": 55,
   "id": "cd20132b",
   "metadata": {},
   "outputs": [
    {
     "data": {
      "text/plain": [
       "223    10499\n",
       "351    25999\n",
       "271    18666\n",
       "379    12749\n",
       "168    29999\n",
       "Name: sales_price, dtype: int64"
      ]
     },
     "execution_count": 55,
     "metadata": {},
     "output_type": "execute_result"
    }
   ],
   "source": [
    "y_train.head()"
   ]
  },
  {
   "cell_type": "code",
   "execution_count": 56,
   "id": "d232854f",
   "metadata": {},
   "outputs": [],
   "source": [
    "#Now We Will Find Those Features On Which Target Variable Is Highly Depends on"
   ]
  },
  {
   "cell_type": "code",
   "execution_count": 57,
   "id": "f48ec95f",
   "metadata": {},
   "outputs": [
    {
     "data": {
      "text/plain": [
       "array([1.86572933, 1.29500045, 0.        , 2.76269255, 2.01659702,\n",
       "       1.35062981, 1.25135778, 1.13109038, 2.5495656 , 1.40840127,\n",
       "       1.12792628, 1.26025925, 1.84968011])"
      ]
     },
     "execution_count": 57,
     "metadata": {},
     "output_type": "execute_result"
    }
   ],
   "source": [
    "mutual_info=mutual_info_classif(x_train,y_train)\n",
    "\n",
    "\n",
    "\n",
    "mutual_info"
   ]
  },
  {
   "cell_type": "code",
   "execution_count": 58,
   "id": "084a1fb1",
   "metadata": {},
   "outputs": [],
   "source": [
    "mutual_info=pd.Series(mutual_info)\n",
    "mutual_info.index=x_train.columns"
   ]
  },
  {
   "cell_type": "code",
   "execution_count": 59,
   "id": "2eacfd49",
   "metadata": {},
   "outputs": [
    {
     "data": {
      "text/plain": [
       "ROM                 2.762693\n",
       "num_front_camera    2.549566\n",
       "RAM                 2.016597\n",
       "brand               1.865729\n",
       "discount_percent    1.849680\n",
       "battery_capacity    1.408401\n",
       "processor           1.350630\n",
       "model               1.295000\n",
       "num_of_ratings      1.260259\n",
       "display_size        1.251358\n",
       "num_rear_camera     1.131090\n",
       "ratings             1.127926\n",
       "base_color          0.000000\n",
       "dtype: float64"
      ]
     },
     "execution_count": 59,
     "metadata": {},
     "output_type": "execute_result"
    }
   ],
   "source": [
    "mutual_info.sort_values(ascending=False)"
   ]
  },
  {
   "cell_type": "code",
   "execution_count": 60,
   "id": "1f94251b",
   "metadata": {},
   "outputs": [
    {
     "data": {
      "image/png": "[encoded data removed]",
      "text/plain": [
       "<Figure size 864x360 with 1 Axes>"
      ]
     },
     "metadata": {
      "needs_background": "light"
     },
     "output_type": "display_data"
    }
   ],
   "source": [
    "plt.figure(figsize=(12,5))\n",
    "mutual_info.sort_values(ascending=False).plot.bar()\n",
    "plt.show()"
   ]
  },
  {
   "cell_type": "code",
   "execution_count": 61,
   "id": "7b318f82",
   "metadata": {},
   "outputs": [],
   "source": [
    "#Now We Will Select Top 9 Features"
   ]
  },
  {
   "cell_type": "code",
   "execution_count": 62,
   "id": "03758d3f",
   "metadata": {},
   "outputs": [],
   "source": [
    "x_train.drop(columns=['num_of_ratings','processor','num_rear_camera','base_color'],inplace=True)\n",
    "x_test.drop(columns=['num_of_ratings','processor','num_rear_camera','base_color'],inplace=True)"
   ]
  },
  {
   "cell_type": "code",
   "execution_count": 63,
   "id": "7f45b734",
   "metadata": {},
   "outputs": [
    {
     "data": {
      "text/html": [
       "<div>\n",
       "<style scoped>\n",
       "    .dataframe tbody tr th:only-of-type {\n",
       "        vertical-align: middle;\n",
       "    }\n",
       "\n",
       "    .dataframe tbody tr th {\n",
       "        vertical-align: top;\n",
       "    }\n",
       "\n",
       "    .dataframe thead th {\n",
       "        text-align: right;\n",
       "    }\n",
       "</style>\n",
       "<table border=\"1\" class=\"dataframe\">\n",
       "  <thead>\n",
       "    <tr style=\"text-align: right;\">\n",
       "      <th></th>\n",
       "      <th>brand</th>\n",
       "      <th>model</th>\n",
       "      <th>ROM</th>\n",
       "      <th>RAM</th>\n",
       "      <th>display_size</th>\n",
       "      <th>num_front_camera</th>\n",
       "      <th>battery_capacity</th>\n",
       "      <th>ratings</th>\n",
       "      <th>discount_percent</th>\n",
       "    </tr>\n",
       "  </thead>\n",
       "  <tbody>\n",
       "    <tr>\n",
       "      <th>223</th>\n",
       "      <td>2</td>\n",
       "      <td>0</td>\n",
       "      <td>64</td>\n",
       "      <td>4</td>\n",
       "      <td>6.2</td>\n",
       "      <td>1</td>\n",
       "      <td>4230</td>\n",
       "      <td>4.4</td>\n",
       "      <td>0.04</td>\n",
       "    </tr>\n",
       "    <tr>\n",
       "      <th>351</th>\n",
       "      <td>3</td>\n",
       "      <td>45</td>\n",
       "      <td>128</td>\n",
       "      <td>8</td>\n",
       "      <td>6.7</td>\n",
       "      <td>1</td>\n",
       "      <td>7000</td>\n",
       "      <td>4.3</td>\n",
       "      <td>0.18</td>\n",
       "    </tr>\n",
       "    <tr>\n",
       "      <th>271</th>\n",
       "      <td>3</td>\n",
       "      <td>53</td>\n",
       "      <td>128</td>\n",
       "      <td>8</td>\n",
       "      <td>6.4</td>\n",
       "      <td>1</td>\n",
       "      <td>6000</td>\n",
       "      <td>4.3</td>\n",
       "      <td>0.01</td>\n",
       "    </tr>\n",
       "    <tr>\n",
       "      <th>379</th>\n",
       "      <td>4</td>\n",
       "      <td>92</td>\n",
       "      <td>64</td>\n",
       "      <td>6</td>\n",
       "      <td>6.3</td>\n",
       "      <td>2</td>\n",
       "      <td>4000</td>\n",
       "      <td>4.5</td>\n",
       "      <td>0.05</td>\n",
       "    </tr>\n",
       "    <tr>\n",
       "      <th>168</th>\n",
       "      <td>2</td>\n",
       "      <td>23</td>\n",
       "      <td>256</td>\n",
       "      <td>8</td>\n",
       "      <td>6.4</td>\n",
       "      <td>1</td>\n",
       "      <td>4300</td>\n",
       "      <td>4.3</td>\n",
       "      <td>0.06</td>\n",
       "    </tr>\n",
       "  </tbody>\n",
       "</table>\n",
       "</div>"
      ],
      "text/plain": [
       "     brand  model  ROM  RAM  display_size  num_front_camera  battery_capacity  \\\n",
       "223      2      0   64    4           6.2                 1              4230   \n",
       "351      3     45  128    8           6.7                 1              7000   \n",
       "271      3     53  128    8           6.4                 1              6000   \n",
       "379      4     92   64    6           6.3                 2              4000   \n",
       "168      2     23  256    8           6.4                 1              4300   \n",
       "\n",
       "     ratings  discount_percent  \n",
       "223      4.4              0.04  \n",
       "351      4.3              0.18  \n",
       "271      4.3              0.01  \n",
       "379      4.5              0.05  \n",
       "168      4.3              0.06  "
      ]
     },
     "execution_count": 63,
     "metadata": {},
     "output_type": "execute_result"
    }
   ],
   "source": [
    "x_train.head()"
   ]
  },
  {
   "cell_type": "code",
   "execution_count": 64,
   "id": "b82eb1f2",
   "metadata": {},
   "outputs": [
    {
     "data": {
      "text/html": [
       "<div>\n",
       "<style scoped>\n",
       "    .dataframe tbody tr th:only-of-type {\n",
       "        vertical-align: middle;\n",
       "    }\n",
       "\n",
       "    .dataframe tbody tr th {\n",
       "        vertical-align: top;\n",
       "    }\n",
       "\n",
       "    .dataframe thead th {\n",
       "        text-align: right;\n",
       "    }\n",
       "</style>\n",
       "<table border=\"1\" class=\"dataframe\">\n",
       "  <thead>\n",
       "    <tr style=\"text-align: right;\">\n",
       "      <th></th>\n",
       "      <th>brand</th>\n",
       "      <th>model</th>\n",
       "      <th>ROM</th>\n",
       "      <th>RAM</th>\n",
       "      <th>display_size</th>\n",
       "      <th>num_front_camera</th>\n",
       "      <th>battery_capacity</th>\n",
       "      <th>ratings</th>\n",
       "      <th>discount_percent</th>\n",
       "    </tr>\n",
       "  </thead>\n",
       "  <tbody>\n",
       "    <tr>\n",
       "      <th>179</th>\n",
       "      <td>2</td>\n",
       "      <td>1</td>\n",
       "      <td>128</td>\n",
       "      <td>8</td>\n",
       "      <td>6.3</td>\n",
       "      <td>1</td>\n",
       "      <td>4035</td>\n",
       "      <td>4.5</td>\n",
       "      <td>0.05</td>\n",
       "    </tr>\n",
       "    <tr>\n",
       "      <th>355</th>\n",
       "      <td>3</td>\n",
       "      <td>52</td>\n",
       "      <td>64</td>\n",
       "      <td>4</td>\n",
       "      <td>6.4</td>\n",
       "      <td>1</td>\n",
       "      <td>6000</td>\n",
       "      <td>4.3</td>\n",
       "      <td>0.09</td>\n",
       "    </tr>\n",
       "    <tr>\n",
       "      <th>419</th>\n",
       "      <td>4</td>\n",
       "      <td>84</td>\n",
       "      <td>32</td>\n",
       "      <td>2</td>\n",
       "      <td>5.5</td>\n",
       "      <td>1</td>\n",
       "      <td>3000</td>\n",
       "      <td>4.3</td>\n",
       "      <td>0.28</td>\n",
       "    </tr>\n",
       "    <tr>\n",
       "      <th>314</th>\n",
       "      <td>3</td>\n",
       "      <td>29</td>\n",
       "      <td>64</td>\n",
       "      <td>6</td>\n",
       "      <td>6.5</td>\n",
       "      <td>1</td>\n",
       "      <td>5000</td>\n",
       "      <td>4.2</td>\n",
       "      <td>0.01</td>\n",
       "    </tr>\n",
       "    <tr>\n",
       "      <th>248</th>\n",
       "      <td>2</td>\n",
       "      <td>73</td>\n",
       "      <td>128</td>\n",
       "      <td>4</td>\n",
       "      <td>6.5</td>\n",
       "      <td>1</td>\n",
       "      <td>5000</td>\n",
       "      <td>4.5</td>\n",
       "      <td>0.07</td>\n",
       "    </tr>\n",
       "  </tbody>\n",
       "</table>\n",
       "</div>"
      ],
      "text/plain": [
       "     brand  model  ROM  RAM  display_size  num_front_camera  battery_capacity  \\\n",
       "179      2      1  128    8           6.3                 1              4035   \n",
       "355      3     52   64    4           6.4                 1              6000   \n",
       "419      4     84   32    2           5.5                 1              3000   \n",
       "314      3     29   64    6           6.5                 1              5000   \n",
       "248      2     73  128    4           6.5                 1              5000   \n",
       "\n",
       "     ratings  discount_percent  \n",
       "179      4.5              0.05  \n",
       "355      4.3              0.09  \n",
       "419      4.3              0.28  \n",
       "314      4.2              0.01  \n",
       "248      4.5              0.07  "
      ]
     },
     "execution_count": 64,
     "metadata": {},
     "output_type": "execute_result"
    }
   ],
   "source": [
    "x_test.head()"
   ]
  },
  {
   "cell_type": "code",
   "execution_count": 65,
   "id": "1f3ba3e2",
   "metadata": {},
   "outputs": [],
   "source": [
    "#Now Data Is Cleaned And We Will Do Some Predictions"
   ]
  },
  {
   "cell_type": "markdown",
   "id": "abdb138f",
   "metadata": {},
   "source": [
    "# Logistic Regression Algorithm"
   ]
  },
  {
   "cell_type": "code",
   "execution_count": 66,
   "id": "7feb9d79",
   "metadata": {},
   "outputs": [
    {
     "data": {
      "text/plain": [
       "LogisticRegression()"
      ]
     },
     "execution_count": 66,
     "metadata": {},
     "output_type": "execute_result"
    }
   ],
   "source": [
    "lr=LogisticRegression()\n",
    "\n",
    "lr.fit(x_train,y_train)"
   ]
  },
  {
   "cell_type": "code",
   "execution_count": 67,
   "id": "12e672bc",
   "metadata": {},
   "outputs": [],
   "source": [
    "y_predLogistic=lr.predict(x_test)"
   ]
  },
  {
   "cell_type": "code",
   "execution_count": 68,
   "id": "c803905c",
   "metadata": {},
   "outputs": [
    {
     "data": {
      "text/plain": [
       "0.15584415584415584"
      ]
     },
     "execution_count": 68,
     "metadata": {},
     "output_type": "execute_result"
    }
   ],
   "source": [
    "accuracy_score(y_test,y_predLogistic)"
   ]
  },
  {
   "cell_type": "code",
   "execution_count": 69,
   "id": "4053774a",
   "metadata": {},
   "outputs": [],
   "source": [
    "#Here Logistic Regression Failed, Because We Got Accuracy Only Of 15.58%"
   ]
  },
  {
   "cell_type": "markdown",
   "id": "43de320c",
   "metadata": {},
   "source": [
    "# Decision Tree Classifier Algorithm"
   ]
  },
  {
   "cell_type": "code",
   "execution_count": 70,
   "id": "1638ddb5",
   "metadata": {},
   "outputs": [
    {
     "data": {
      "text/plain": [
       "DecisionTreeClassifier()"
      ]
     },
     "execution_count": 70,
     "metadata": {},
     "output_type": "execute_result"
    }
   ],
   "source": [
    "dt=DecisionTreeClassifier()\n",
    "\n",
    "dt.fit(x_train,y_train)"
   ]
  },
  {
   "cell_type": "code",
   "execution_count": 71,
   "id": "fdca3da2",
   "metadata": {},
   "outputs": [],
   "source": [
    "y_predDecision=dt.predict(x_test)"
   ]
  },
  {
   "cell_type": "code",
   "execution_count": 72,
   "id": "b48fe7c8",
   "metadata": {},
   "outputs": [
    {
     "data": {
      "text/plain": [
       "0.6363636363636364"
      ]
     },
     "execution_count": 72,
     "metadata": {},
     "output_type": "execute_result"
    }
   ],
   "source": [
    "accuracy_score(y_test,y_predDecision)"
   ]
  },
  {
   "cell_type": "code",
   "execution_count": 73,
   "id": "20d639fd",
   "metadata": {},
   "outputs": [],
   "source": [
    "#Here Decision Tree Classifier Was Way Better Than Logistic Regression, We Got Accuracy Of 63.63%"
   ]
  },
  {
   "cell_type": "markdown",
   "id": "cdd3f3dc",
   "metadata": {},
   "source": [
    "# KNN - K Nearest Neighbor Algorithm"
   ]
  },
  {
   "cell_type": "code",
   "execution_count": 74,
   "id": "5a84ce46",
   "metadata": {},
   "outputs": [],
   "source": [
    "knn=KNeighborsClassifier()"
   ]
  },
  {
   "cell_type": "code",
   "execution_count": 75,
   "id": "feb51898",
   "metadata": {},
   "outputs": [
    {
     "data": {
      "text/plain": [
       "KNeighborsClassifier()"
      ]
     },
     "execution_count": 75,
     "metadata": {},
     "output_type": "execute_result"
    }
   ],
   "source": [
    "knn.fit(x_train,y_train)"
   ]
  },
  {
   "cell_type": "code",
   "execution_count": 76,
   "id": "1f1a67be",
   "metadata": {},
   "outputs": [],
   "source": [
    "y_predKnn=knn.predict(x_test)"
   ]
  },
  {
   "cell_type": "code",
   "execution_count": 77,
   "id": "87a10bef",
   "metadata": {},
   "outputs": [
    {
     "data": {
      "text/plain": [
       "0.18181818181818182"
      ]
     },
     "execution_count": 77,
     "metadata": {},
     "output_type": "execute_result"
    }
   ],
   "source": [
    "accuracy_score(y_test,y_predKnn)"
   ]
  },
  {
   "cell_type": "code",
   "execution_count": 78,
   "id": "b5801c20",
   "metadata": {},
   "outputs": [],
   "source": [
    "#Here KNN also Failed because we got accuracy only of 18.18%"
   ]
  },
  {
   "cell_type": "markdown",
   "id": "a2885058",
   "metadata": {},
   "source": [
    "# Random Forest Algorithm"
   ]
  },
  {
   "cell_type": "code",
   "execution_count": 79,
   "id": "2efd9626",
   "metadata": {},
   "outputs": [],
   "source": [
    "rf=RandomForestClassifier()"
   ]
  },
  {
   "cell_type": "code",
   "execution_count": 80,
   "id": "94f82fef",
   "metadata": {},
   "outputs": [
    {
     "data": {
      "text/plain": [
       "RandomForestClassifier()"
      ]
     },
     "execution_count": 80,
     "metadata": {},
     "output_type": "execute_result"
    }
   ],
   "source": [
    "rf.fit(x_train,y_train)"
   ]
  },
  {
   "cell_type": "code",
   "execution_count": 81,
   "id": "33e68937",
   "metadata": {},
   "outputs": [],
   "source": [
    "y_predRf=rf.predict(x_test)"
   ]
  },
  {
   "cell_type": "code",
   "execution_count": 82,
   "id": "8be6a3da",
   "metadata": {},
   "outputs": [
    {
     "data": {
      "text/plain": [
       "0.6363636363636364"
      ]
     },
     "execution_count": 82,
     "metadata": {},
     "output_type": "execute_result"
    }
   ],
   "source": [
    "accuracy_score(y_test,y_predRf)"
   ]
  },
  {
   "cell_type": "code",
   "execution_count": 83,
   "id": "cdda8b28",
   "metadata": {},
   "outputs": [],
   "source": [
    "#Here We Got Accuracy Same As Decision Tree 63.63% "
   ]
  },
  {
   "cell_type": "markdown",
   "id": "2147adbf",
   "metadata": {},
   "source": [
    "# Random Forest With Cross Validation"
   ]
  },
  {
   "cell_type": "code",
   "execution_count": 84,
   "id": "b38974ca",
   "metadata": {},
   "outputs": [
    {
     "data": {
      "text/plain": [
       "0.713697705802969"
      ]
     },
     "execution_count": 84,
     "metadata": {},
     "output_type": "execute_result"
    }
   ],
   "source": [
    "np.mean(cross_val_score(RandomForestClassifier(max_samples=0.75),x,y,cv=10,scoring='accuracy'))"
   ]
  },
  {
   "cell_type": "code",
   "execution_count": 85,
   "id": "935ebad0",
   "metadata": {},
   "outputs": [],
   "source": [
    "#As we can see our Random Forest Model's Accuracy is increased with the help of cross validation method"
   ]
  },
  {
   "cell_type": "code",
   "execution_count": 86,
   "id": "447a9768",
   "metadata": {},
   "outputs": [
    {
     "data": {
      "text/plain": [
       "array([0.79487179, 0.76315789, 0.73684211, 0.68421053, 0.81578947,\n",
       "       0.81578947, 0.63157895, 0.63157895, 0.68421053, 0.57894737])"
      ]
     },
     "execution_count": 86,
     "metadata": {},
     "output_type": "execute_result"
    }
   ],
   "source": [
    "cross_val_score(RandomForestClassifier(max_samples=0.75),x,y,cv=10,scoring='accuracy')"
   ]
  },
  {
   "cell_type": "code",
   "execution_count": 87,
   "id": "675dfb5d",
   "metadata": {},
   "outputs": [],
   "source": [
    "#As we clearly see after training our Random Forest model with 10 diffrent samples it gives 10 diffrent accuracy scores"
   ]
  },
  {
   "cell_type": "markdown",
   "id": "b555c1cf",
   "metadata": {},
   "source": [
    "# Decision Tree With Cross Validation"
   ]
  },
  {
   "cell_type": "code",
   "execution_count": 88,
   "id": "e1b64166",
   "metadata": {},
   "outputs": [
    {
     "data": {
      "text/plain": [
       "0.6587044534412955"
      ]
     },
     "execution_count": 88,
     "metadata": {},
     "output_type": "execute_result"
    }
   ],
   "source": [
    "np.mean(cross_val_score(DecisionTreeClassifier(),x,y,cv=10,scoring='accuracy'))"
   ]
  },
  {
   "cell_type": "code",
   "execution_count": 89,
   "id": "5d35b56c",
   "metadata": {},
   "outputs": [],
   "source": [
    "#As we can see our Decision Tree Model's Accuracy is increased with the help of cross validation method"
   ]
  },
  {
   "cell_type": "code",
   "execution_count": 90,
   "id": "51c7e975",
   "metadata": {},
   "outputs": [
    {
     "data": {
      "text/plain": [
       "array([0.71794872, 0.76315789, 0.71052632, 0.63157895, 0.73684211,\n",
       "       0.81578947, 0.57894737, 0.57894737, 0.63157895, 0.52631579])"
      ]
     },
     "execution_count": 90,
     "metadata": {},
     "output_type": "execute_result"
    }
   ],
   "source": [
    "cross_val_score(DecisionTreeClassifier(),x,y,cv=10,scoring='accuracy')"
   ]
  },
  {
   "cell_type": "code",
   "execution_count": 91,
   "id": "3c215a74",
   "metadata": {},
   "outputs": [],
   "source": [
    "#As we clearly see after training our Decision Tree model with 10 diffrent samples it gives 10 diffrent accuracy scores"
   ]
  },
  {
   "cell_type": "markdown",
   "id": "d92d38e0",
   "metadata": {},
   "source": [
    "# Random Forest Algorithm With Hyperparameter Tuning also used Grid Search For Best Parameters"
   ]
  },
  {
   "cell_type": "code",
   "execution_count": 92,
   "id": "66a6d676",
   "metadata": {},
   "outputs": [],
   "source": [
    "# Number of trees in random forest\n",
    "n_estimators = [20,60,100,120]\n",
    "\n",
    "# Number of features to consider at every split\n",
    "max_features = [0.2,0.6,1.0]\n",
    "\n",
    "# Maximum number of levels in tree\n",
    "max_depth = [2,8,None]\n",
    "\n",
    "# Number of samples\n",
    "max_samples = [0.5,0.75,1.0]"
   ]
  },
  {
   "cell_type": "code",
   "execution_count": 93,
   "id": "f6cca6e9",
   "metadata": {},
   "outputs": [
    {
     "name": "stdout",
     "output_type": "stream",
     "text": [
      "{'n_estimators': [20, 60, 100, 120], 'max_features': [0.2, 0.6, 1.0], 'max_depth': [2, 8, None], 'max_samples': [0.5, 0.75, 1.0]}\n"
     ]
    }
   ],
   "source": [
    "param_grid = {'n_estimators': n_estimators,\n",
    "               'max_features': max_features,\n",
    "               'max_depth': max_depth,\n",
    "              'max_samples':max_samples\n",
    "             }\n",
    "print(param_grid)"
   ]
  },
  {
   "cell_type": "code",
   "execution_count": 94,
   "id": "baa9e445",
   "metadata": {},
   "outputs": [],
   "source": [
    "rf = RandomForestClassifier()"
   ]
  },
  {
   "cell_type": "code",
   "execution_count": 95,
   "id": "40fc3e58",
   "metadata": {},
   "outputs": [],
   "source": [
    "rf_grid = GridSearchCV(estimator = rf, \n",
    "                       param_grid = param_grid, \n",
    "                       cv = 5, \n",
    "                       verbose=2, \n",
    "                       n_jobs = -1)"
   ]
  },
  {
   "cell_type": "code",
   "execution_count": 96,
   "id": "3175a1c4",
   "metadata": {},
   "outputs": [
    {
     "name": "stdout",
     "output_type": "stream",
     "text": [
      "Fitting 5 folds for each of 108 candidates, totalling 540 fits\n"
     ]
    },
    {
     "data": {
      "text/plain": [
       "GridSearchCV(cv=5, estimator=RandomForestClassifier(), n_jobs=-1,\n",
       "             param_grid={'max_depth': [2, 8, None],\n",
       "                         'max_features': [0.2, 0.6, 1.0],\n",
       "                         'max_samples': [0.5, 0.75, 1.0],\n",
       "                         'n_estimators': [20, 60, 100, 120]},\n",
       "             verbose=2)"
      ]
     },
     "execution_count": 96,
     "metadata": {},
     "output_type": "execute_result"
    }
   ],
   "source": [
    "rf_grid.fit(x_train,y_train)"
   ]
  },
  {
   "cell_type": "code",
   "execution_count": 97,
   "id": "6574bcbc",
   "metadata": {},
   "outputs": [
    {
     "data": {
      "text/plain": [
       "{'max_depth': None,\n",
       " 'max_features': 0.6,\n",
       " 'max_samples': 0.75,\n",
       " 'n_estimators': 120}"
      ]
     },
     "execution_count": 97,
     "metadata": {},
     "output_type": "execute_result"
    }
   ],
   "source": [
    "rf_grid.best_params_"
   ]
  },
  {
   "cell_type": "code",
   "execution_count": 98,
   "id": "5be0e9b1",
   "metadata": {},
   "outputs": [
    {
     "data": {
      "text/plain": [
       "0.6779234972677595"
      ]
     },
     "execution_count": 98,
     "metadata": {},
     "output_type": "execute_result"
    }
   ],
   "source": [
    "rf_grid.best_score_"
   ]
  },
  {
   "cell_type": "code",
   "execution_count": null,
   "id": "4ef8bee7",
   "metadata": {},
   "outputs": [],
   "source": []
  }
 ],
 "metadata": {
  "kernelspec": {
   "display_name": "Python 3",
   "language": "python",
   "name": "python3"
  },
  "language_info": {
   "codemirror_mode": {
    "name": "ipython",
    "version": 3
   },
   "file_extension": ".py",
   "mimetype": "text/x-python",
   "name": "python",
   "nbconvert_exporter": "python",
   "pygments_lexer": "ipython3",
   "version": "3.8.8"
  }
 },
 "nbformat": 4,
 "nbformat_minor": 5
}
